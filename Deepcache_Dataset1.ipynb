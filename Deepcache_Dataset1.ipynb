{
  "nbformat": 4,
  "nbformat_minor": 0,
  "metadata": {
    "colab": {
      "provenance": [],
      "authorship_tag": "ABX9TyODoV2IsWNRzy5e/485WHon"
    },
    "kernelspec": {
      "name": "python3",
      "display_name": "Python 3"
    },
    "language_info": {
      "name": "python"
    }
  },
  "cells": [
    {
      "cell_type": "code",
      "source": [
        "import pandas as pd\n",
        "import numpy as np\n",
        "\n",
        "df = pd.read_csv('Datasets/syntheticDataset_O50.csv') # 데이터 불러오기\n",
        "\n",
        "df['hour'] = df['request_time'] // 3600  # 초 단위 -> 시간 단위 버킷\n",
        "\n",
        "object_ids = df['object_ID'].unique()\n",
        "object_ids.sort()\n",
        "num_objects = len(object_ids)\n",
        "print(\"총 객체 수: \", num_objects)\n",
        "\n",
        "pivot = df.groupby(['hour', 'object_ID']).size().unstack(fill_value=0)\n",
        "pivot = pivot.reindex(columns=object_ids, fill_value=0) # 객체 ID 순서 맞추기\n",
        "\n",
        "# 확률 벡터로 정규화\n",
        "probs = pivot.div(pivot.sum(axis=1), axis=0).fillna(0)\n",
        "\n",
        "m, K = 20, 10\n",
        "X = []\n",
        "y = []\n",
        "\n",
        "for i in range(len(probs) - m - K):\n",
        "  x_seq = probs.iloc[i:i+m].values  # shape: (m, d)\n",
        "  x_next = probs.iloc[i+m:i+m+K].values\n",
        "  X.append(x_seq)\n",
        "  y.append(x_next)\n",
        "\n",
        "X = np.array(X)\n",
        "y = np.array(y)\n",
        "\n",
        "print(\"X.shape =\", X.shape)\n",
        "print(\"y.shape =\", y.shape)"
      ],
      "metadata": {
        "id": "x8i71sMFV_w5",
        "colab": {
          "base_uri": "https://localhost:8080/"
        },
        "outputId": "bfb3bf84-0abe-4e86-89d6-e577decfd8c0"
      },
      "execution_count": 8,
      "outputs": [
        {
          "output_type": "stream",
          "name": "stdout",
          "text": [
            "총 객체 수:  50\n",
            "X.shape = (55, 20, 50)\n",
            "y.shape = (55, 10, 50)\n"
          ]
        }
      ]
    },
    {
      "cell_type": "code",
      "source": [
        "# LSTM 예측 모델\n",
        "# 과거 일정 시간 동안의 요청 분포를 받아서 앞으로의 일정 시간 동안의 요청 분포를 예측하는 구조\n",
        "# Encoder: 과거 m시간 동안의 요청 분포((m, 1033) 시퀀스)를 받아서, 마지막 hidden state와 cell state로 응축된 정보를 생성 -> context vector로 요약\n",
        "# Decoder: Encoder에서 받은 context vector를 바탕으로, 앞으로 k시간 동안 어떤 객체들이 얼마나 요청될지를 시퀀스 형태로 한 시간씩 예측\n",
        "import tensorflow as tf\n",
        "from tensorflow.keras.models import Model\n",
        "from tensorflow.keras.layers import Input, LSTM, Dense, TimeDistributed, RepeatVector\n",
        "\n",
        "def build_seq2seq_model(m, K, num_objects):\n",
        "  # ----- Encoder -----\n",
        "  encoder_inputs = Input(shape=(m, num_objects)) # (batch, m(시간), num_objects(객체수))\n",
        "  encoder_lstm = LSTM(128, return_state=True) # LSTM이 마지막 시점의 hidden state와 cell state를 반환\n",
        "  encoder_outputs, state_h, state_c = encoder_lstm(encoder_inputs) # state_h와 state_c는 Decoder의 초기 상태로 사용됨\n",
        "  encoder_states = [state_h, state_c] # Encoder의 상태를 Decoder에 전달하기 위해 리스트로 묶음\n",
        "\n",
        "  # ----- Decoder -----\n",
        "  decoder_inputs = RepeatVector(K)(encoder_outputs) # (batch, K, 128): Encoder의 마지막 출력을 K번 복제해서 Decoder 입력으로 사용, Decoder는 K시간 동안 예측을 수행\n",
        "  decoder_lstm = LSTM(128, return_sequences=True) # LSTM의 hidden size는 64, return_sequences=True는 각 시점마다 출력을 반환\n",
        "  decoder_outputs = decoder_lstm(decoder_inputs, initial_state=encoder_states)\n",
        "\n",
        "  # 객체별 확률 예측 (각 시점당 num_objects 개 출력)\n",
        "  decoder_dense = TimeDistributed(Dense(num_objects, activation='softmax')) # softmax는 확률 분포로 만들어줌\n",
        "  output_seq = decoder_dense(decoder_outputs)\n",
        "\n",
        "  # ----- 모델 구성 -----\n",
        "  model = Model(encoder_inputs, output_seq)\n",
        "  model.compile(optimizer='adam', loss='mse', metrics=['mae'])\n",
        "  return model\n",
        "\n",
        "\n",
        "num_objects = 50  # 객체 수\n",
        "m = 20              # 과거 시간: 입력 시퀀스 길이\n",
        "K = 10             # 미래 시간: 출력 시퀀스 길이\n",
        "\n",
        "model = build_seq2seq_model(m, K, num_objects)\n",
        "\n",
        "# 데이터: X shape = (samples, 20, 50), y shape = (samples, 10, 50)\n",
        "history = model.fit(X, y, epochs=30, batch_size=32, validation_split=0.1)\n",
        "\n",
        "# 학습 후 추론 코드\n",
        "from sklearn.model_selection import train_test_split\n",
        "\n",
        "# 시퀀스 데이터를 학습/검증/테스트로 나누기\n",
        "X_train, X_test, y_train, y_test = train_test_split(X, y, test_size=0.2, random_state=42)\n",
        "\n",
        "# 모델 학습 시에도 X_train, y_train 사용\n",
        "history = model.fit(X_train, y_train, epochs=30, batch_size=32, validation_split=0.1)\n",
        "\n",
        "# 추론 (예측)\n",
        "y_pred = model.predict(X_test)\n",
        "print(\"예측 결과 형태:\", y_pred.shape)"
      ],
      "metadata": {
        "colab": {
          "base_uri": "https://localhost:8080/"
        },
        "id": "OWBu2M4GXrZv",
        "outputId": "716eddaa-3303-418c-923d-3d669cc313b9"
      },
      "execution_count": 9,
      "outputs": [
        {
          "output_type": "stream",
          "name": "stdout",
          "text": [
            "Epoch 1/30\n",
            "\u001b[1m2/2\u001b[0m \u001b[32m━━━━━━━━━━━━━━━━━━━━\u001b[0m\u001b[37m\u001b[0m \u001b[1m5s\u001b[0m 1s/step - loss: 8.2351e-04 - mae: 0.0140 - val_loss: 0.0013 - val_mae: 0.0131\n",
            "Epoch 2/30\n",
            "\u001b[1m2/2\u001b[0m \u001b[32m━━━━━━━━━━━━━━━━━━━━\u001b[0m\u001b[37m\u001b[0m \u001b[1m0s\u001b[0m 142ms/step - loss: 8.7885e-04 - mae: 0.0144 - val_loss: 0.0013 - val_mae: 0.0131\n",
            "Epoch 3/30\n",
            "\u001b[1m2/2\u001b[0m \u001b[32m━━━━━━━━━━━━━━━━━━━━\u001b[0m\u001b[37m\u001b[0m \u001b[1m0s\u001b[0m 164ms/step - loss: 8.3563e-04 - mae: 0.0141 - val_loss: 0.0013 - val_mae: 0.0130\n",
            "Epoch 4/30\n",
            "\u001b[1m2/2\u001b[0m \u001b[32m━━━━━━━━━━━━━━━━━━━━\u001b[0m\u001b[37m\u001b[0m \u001b[1m0s\u001b[0m 158ms/step - loss: 8.4617e-04 - mae: 0.0142 - val_loss: 0.0013 - val_mae: 0.0130\n",
            "Epoch 5/30\n",
            "\u001b[1m2/2\u001b[0m \u001b[32m━━━━━━━━━━━━━━━━━━━━\u001b[0m\u001b[37m\u001b[0m \u001b[1m0s\u001b[0m 159ms/step - loss: 8.7884e-04 - mae: 0.0143 - val_loss: 0.0013 - val_mae: 0.0130\n",
            "Epoch 6/30\n",
            "\u001b[1m2/2\u001b[0m \u001b[32m━━━━━━━━━━━━━━━━━━━━\u001b[0m\u001b[37m\u001b[0m \u001b[1m0s\u001b[0m 150ms/step - loss: 7.9582e-04 - mae: 0.0138 - val_loss: 0.0013 - val_mae: 0.0130\n",
            "Epoch 7/30\n",
            "\u001b[1m2/2\u001b[0m \u001b[32m━━━━━━━━━━━━━━━━━━━━\u001b[0m\u001b[37m\u001b[0m \u001b[1m0s\u001b[0m 176ms/step - loss: 8.3349e-04 - mae: 0.0140 - val_loss: 0.0013 - val_mae: 0.0130\n",
            "Epoch 8/30\n",
            "\u001b[1m2/2\u001b[0m \u001b[32m━━━━━━━━━━━━━━━━━━━━\u001b[0m\u001b[37m\u001b[0m \u001b[1m0s\u001b[0m 163ms/step - loss: 8.6588e-04 - mae: 0.0142 - val_loss: 0.0013 - val_mae: 0.0130\n",
            "Epoch 9/30\n",
            "\u001b[1m2/2\u001b[0m \u001b[32m━━━━━━━━━━━━━━━━━━━━\u001b[0m\u001b[37m\u001b[0m \u001b[1m0s\u001b[0m 100ms/step - loss: 8.2313e-04 - mae: 0.0140 - val_loss: 0.0013 - val_mae: 0.0129\n",
            "Epoch 10/30\n",
            "\u001b[1m2/2\u001b[0m \u001b[32m━━━━━━━━━━━━━━━━━━━━\u001b[0m\u001b[37m\u001b[0m \u001b[1m0s\u001b[0m 100ms/step - loss: 8.2195e-04 - mae: 0.0140 - val_loss: 0.0013 - val_mae: 0.0129\n",
            "Epoch 11/30\n",
            "\u001b[1m2/2\u001b[0m \u001b[32m━━━━━━━━━━━━━━━━━━━━\u001b[0m\u001b[37m\u001b[0m \u001b[1m0s\u001b[0m 96ms/step - loss: 8.2783e-04 - mae: 0.0140 - val_loss: 0.0012 - val_mae: 0.0128\n",
            "Epoch 12/30\n",
            "\u001b[1m2/2\u001b[0m \u001b[32m━━━━━━━━━━━━━━━━━━━━\u001b[0m\u001b[37m\u001b[0m \u001b[1m0s\u001b[0m 94ms/step - loss: 8.0810e-04 - mae: 0.0139 - val_loss: 0.0012 - val_mae: 0.0128\n",
            "Epoch 13/30\n",
            "\u001b[1m2/2\u001b[0m \u001b[32m━━━━━━━━━━━━━━━━━━━━\u001b[0m\u001b[37m\u001b[0m \u001b[1m0s\u001b[0m 101ms/step - loss: 8.0525e-04 - mae: 0.0139 - val_loss: 0.0012 - val_mae: 0.0126\n",
            "Epoch 14/30\n",
            "\u001b[1m2/2\u001b[0m \u001b[32m━━━━━━━━━━━━━━━━━━━━\u001b[0m\u001b[37m\u001b[0m \u001b[1m0s\u001b[0m 97ms/step - loss: 7.6042e-04 - mae: 0.0136 - val_loss: 0.0012 - val_mae: 0.0124\n",
            "Epoch 15/30\n",
            "\u001b[1m2/2\u001b[0m \u001b[32m━━━━━━━━━━━━━━━━━━━━\u001b[0m\u001b[37m\u001b[0m \u001b[1m0s\u001b[0m 97ms/step - loss: 7.6390e-04 - mae: 0.0137 - val_loss: 0.0012 - val_mae: 0.0120\n",
            "Epoch 16/30\n",
            "\u001b[1m2/2\u001b[0m \u001b[32m━━━━━━━━━━━━━━━━━━━━\u001b[0m\u001b[37m\u001b[0m \u001b[1m0s\u001b[0m 135ms/step - loss: 7.0706e-04 - mae: 0.0134 - val_loss: 0.0012 - val_mae: 0.0123\n",
            "Epoch 17/30\n",
            "\u001b[1m2/2\u001b[0m \u001b[32m━━━━━━━━━━━━━━━━━━━━\u001b[0m\u001b[37m\u001b[0m \u001b[1m0s\u001b[0m 146ms/step - loss: 6.8177e-04 - mae: 0.0132 - val_loss: 0.0012 - val_mae: 0.0124\n",
            "Epoch 18/30\n",
            "\u001b[1m2/2\u001b[0m \u001b[32m━━━━━━━━━━━━━━━━━━━━\u001b[0m\u001b[37m\u001b[0m \u001b[1m0s\u001b[0m 99ms/step - loss: 6.6513e-04 - mae: 0.0132 - val_loss: 0.0012 - val_mae: 0.0123\n",
            "Epoch 19/30\n",
            "\u001b[1m2/2\u001b[0m \u001b[32m━━━━━━━━━━━━━━━━━━━━\u001b[0m\u001b[37m\u001b[0m \u001b[1m0s\u001b[0m 98ms/step - loss: 6.3426e-04 - mae: 0.0130 - val_loss: 0.0012 - val_mae: 0.0123\n",
            "Epoch 20/30\n",
            "\u001b[1m2/2\u001b[0m \u001b[32m━━━━━━━━━━━━━━━━━━━━\u001b[0m\u001b[37m\u001b[0m \u001b[1m0s\u001b[0m 98ms/step - loss: 6.3082e-04 - mae: 0.0130 - val_loss: 0.0012 - val_mae: 0.0125\n",
            "Epoch 21/30\n",
            "\u001b[1m2/2\u001b[0m \u001b[32m━━━━━━━━━━━━━━━━━━━━\u001b[0m\u001b[37m\u001b[0m \u001b[1m0s\u001b[0m 97ms/step - loss: 6.3137e-04 - mae: 0.0131 - val_loss: 0.0013 - val_mae: 0.0130\n",
            "Epoch 22/30\n",
            "\u001b[1m2/2\u001b[0m \u001b[32m━━━━━━━━━━━━━━━━━━━━\u001b[0m\u001b[37m\u001b[0m \u001b[1m0s\u001b[0m 97ms/step - loss: 6.1710e-04 - mae: 0.0130 - val_loss: 0.0013 - val_mae: 0.0134\n",
            "Epoch 23/30\n",
            "\u001b[1m2/2\u001b[0m \u001b[32m━━━━━━━━━━━━━━━━━━━━\u001b[0m\u001b[37m\u001b[0m \u001b[1m0s\u001b[0m 99ms/step - loss: 5.9661e-04 - mae: 0.0129 - val_loss: 0.0013 - val_mae: 0.0133\n",
            "Epoch 24/30\n",
            "\u001b[1m2/2\u001b[0m \u001b[32m━━━━━━━━━━━━━━━━━━━━\u001b[0m\u001b[37m\u001b[0m \u001b[1m0s\u001b[0m 97ms/step - loss: 5.5497e-04 - mae: 0.0126 - val_loss: 0.0013 - val_mae: 0.0135\n",
            "Epoch 25/30\n",
            "\u001b[1m2/2\u001b[0m \u001b[32m━━━━━━━━━━━━━━━━━━━━\u001b[0m\u001b[37m\u001b[0m \u001b[1m0s\u001b[0m 132ms/step - loss: 5.5655e-04 - mae: 0.0126 - val_loss: 0.0015 - val_mae: 0.0148\n",
            "Epoch 26/30\n",
            "\u001b[1m2/2\u001b[0m \u001b[32m━━━━━━━━━━━━━━━━━━━━\u001b[0m\u001b[37m\u001b[0m \u001b[1m0s\u001b[0m 97ms/step - loss: 5.1821e-04 - mae: 0.0122 - val_loss: 0.0014 - val_mae: 0.0145\n",
            "Epoch 27/30\n",
            "\u001b[1m2/2\u001b[0m \u001b[32m━━━━━━━━━━━━━━━━━━━━\u001b[0m\u001b[37m\u001b[0m \u001b[1m0s\u001b[0m 98ms/step - loss: 5.0949e-04 - mae: 0.0121 - val_loss: 0.0014 - val_mae: 0.0143\n",
            "Epoch 28/30\n",
            "\u001b[1m2/2\u001b[0m \u001b[32m━━━━━━━━━━━━━━━━━━━━\u001b[0m\u001b[37m\u001b[0m \u001b[1m0s\u001b[0m 94ms/step - loss: 4.7857e-04 - mae: 0.0118 - val_loss: 0.0017 - val_mae: 0.0160\n",
            "Epoch 29/30\n",
            "\u001b[1m2/2\u001b[0m \u001b[32m━━━━━━━━━━━━━━━━━━━━\u001b[0m\u001b[37m\u001b[0m \u001b[1m0s\u001b[0m 97ms/step - loss: 4.7679e-04 - mae: 0.0115 - val_loss: 0.0016 - val_mae: 0.0157\n",
            "Epoch 30/30\n",
            "\u001b[1m2/2\u001b[0m \u001b[32m━━━━━━━━━━━━━━━━━━━━\u001b[0m\u001b[37m\u001b[0m \u001b[1m0s\u001b[0m 94ms/step - loss: 4.5829e-04 - mae: 0.0114 - val_loss: 0.0014 - val_mae: 0.0147\n",
            "Epoch 1/30\n",
            "\u001b[1m2/2\u001b[0m \u001b[32m━━━━━━━━━━━━━━━━━━━━\u001b[0m\u001b[37m\u001b[0m \u001b[1m0s\u001b[0m 165ms/step - loss: 6.3522e-04 - mae: 0.0120 - val_loss: 4.5733e-04 - val_mae: 0.0114\n",
            "Epoch 2/30\n",
            "\u001b[1m2/2\u001b[0m \u001b[32m━━━━━━━━━━━━━━━━━━━━\u001b[0m\u001b[37m\u001b[0m \u001b[1m0s\u001b[0m 92ms/step - loss: 6.5170e-04 - mae: 0.0121 - val_loss: 4.6955e-04 - val_mae: 0.0114\n",
            "Epoch 3/30\n",
            "\u001b[1m2/2\u001b[0m \u001b[32m━━━━━━━━━━━━━━━━━━━━\u001b[0m\u001b[37m\u001b[0m \u001b[1m0s\u001b[0m 103ms/step - loss: 6.6245e-04 - mae: 0.0121 - val_loss: 3.7084e-04 - val_mae: 0.0107\n",
            "Epoch 4/30\n",
            "\u001b[1m2/2\u001b[0m \u001b[32m━━━━━━━━━━━━━━━━━━━━\u001b[0m\u001b[37m\u001b[0m \u001b[1m0s\u001b[0m 92ms/step - loss: 6.0562e-04 - mae: 0.0117 - val_loss: 3.6329e-04 - val_mae: 0.0106\n",
            "Epoch 5/30\n",
            "\u001b[1m2/2\u001b[0m \u001b[32m━━━━━━━━━━━━━━━━━━━━\u001b[0m\u001b[37m\u001b[0m \u001b[1m0s\u001b[0m 128ms/step - loss: 5.4604e-04 - mae: 0.0115 - val_loss: 4.0872e-04 - val_mae: 0.0109\n",
            "Epoch 6/30\n",
            "\u001b[1m2/2\u001b[0m \u001b[32m━━━━━━━━━━━━━━━━━━━━\u001b[0m\u001b[37m\u001b[0m \u001b[1m0s\u001b[0m 89ms/step - loss: 6.0340e-04 - mae: 0.0117 - val_loss: 3.5471e-04 - val_mae: 0.0106\n",
            "Epoch 7/30\n",
            "\u001b[1m2/2\u001b[0m \u001b[32m━━━━━━━━━━━━━━━━━━━━\u001b[0m\u001b[37m\u001b[0m \u001b[1m0s\u001b[0m 91ms/step - loss: 5.3222e-04 - mae: 0.0114 - val_loss: 3.6044e-04 - val_mae: 0.0103\n",
            "Epoch 8/30\n",
            "\u001b[1m2/2\u001b[0m \u001b[32m━━━━━━━━━━━━━━━━━━━━\u001b[0m\u001b[37m\u001b[0m \u001b[1m0s\u001b[0m 90ms/step - loss: 5.8730e-04 - mae: 0.0115 - val_loss: 3.3549e-04 - val_mae: 0.0103\n",
            "Epoch 9/30\n",
            "\u001b[1m2/2\u001b[0m \u001b[32m━━━━━━━━━━━━━━━━━━━━\u001b[0m\u001b[37m\u001b[0m \u001b[1m0s\u001b[0m 94ms/step - loss: 5.6320e-04 - mae: 0.0114 - val_loss: 3.3743e-04 - val_mae: 0.0104\n",
            "Epoch 10/30\n",
            "\u001b[1m2/2\u001b[0m \u001b[32m━━━━━━━━━━━━━━━━━━━━\u001b[0m\u001b[37m\u001b[0m \u001b[1m0s\u001b[0m 89ms/step - loss: 5.2974e-04 - mae: 0.0111 - val_loss: 3.2691e-04 - val_mae: 0.0102\n",
            "Epoch 11/30\n",
            "\u001b[1m2/2\u001b[0m \u001b[32m━━━━━━━━━━━━━━━━━━━━\u001b[0m\u001b[37m\u001b[0m \u001b[1m0s\u001b[0m 90ms/step - loss: 5.4249e-04 - mae: 0.0112 - val_loss: 3.2291e-04 - val_mae: 0.0100\n",
            "Epoch 12/30\n",
            "\u001b[1m2/2\u001b[0m \u001b[32m━━━━━━━━━━━━━━━━━━━━\u001b[0m\u001b[37m\u001b[0m \u001b[1m0s\u001b[0m 125ms/step - loss: 5.2699e-04 - mae: 0.0110 - val_loss: 3.2028e-04 - val_mae: 0.0102\n",
            "Epoch 13/30\n",
            "\u001b[1m2/2\u001b[0m \u001b[32m━━━━━━━━━━━━━━━━━━━━\u001b[0m\u001b[37m\u001b[0m \u001b[1m0s\u001b[0m 93ms/step - loss: 5.2214e-04 - mae: 0.0110 - val_loss: 3.1879e-04 - val_mae: 0.0101\n",
            "Epoch 14/30\n",
            "\u001b[1m2/2\u001b[0m \u001b[32m━━━━━━━━━━━━━━━━━━━━\u001b[0m\u001b[37m\u001b[0m \u001b[1m0s\u001b[0m 125ms/step - loss: 5.1248e-04 - mae: 0.0109 - val_loss: 3.1682e-04 - val_mae: 0.0096\n",
            "Epoch 15/30\n",
            "\u001b[1m2/2\u001b[0m \u001b[32m━━━━━━━━━━━━━━━━━━━━\u001b[0m\u001b[37m\u001b[0m \u001b[1m0s\u001b[0m 89ms/step - loss: 4.8914e-04 - mae: 0.0106 - val_loss: 2.9999e-04 - val_mae: 0.0096\n",
            "Epoch 16/30\n",
            "\u001b[1m2/2\u001b[0m \u001b[32m━━━━━━━━━━━━━━━━━━━━\u001b[0m\u001b[37m\u001b[0m \u001b[1m0s\u001b[0m 90ms/step - loss: 4.8898e-04 - mae: 0.0107 - val_loss: 2.9630e-04 - val_mae: 0.0097\n",
            "Epoch 17/30\n",
            "\u001b[1m2/2\u001b[0m \u001b[32m━━━━━━━━━━━━━━━━━━━━\u001b[0m\u001b[37m\u001b[0m \u001b[1m0s\u001b[0m 89ms/step - loss: 4.9224e-04 - mae: 0.0106 - val_loss: 3.1372e-04 - val_mae: 0.0093\n",
            "Epoch 18/30\n",
            "\u001b[1m2/2\u001b[0m \u001b[32m━━━━━━━━━━━━━━━━━━━━\u001b[0m\u001b[37m\u001b[0m \u001b[1m0s\u001b[0m 89ms/step - loss: 4.8785e-04 - mae: 0.0105 - val_loss: 3.0661e-04 - val_mae: 0.0098\n",
            "Epoch 19/30\n",
            "\u001b[1m2/2\u001b[0m \u001b[32m━━━━━━━━━━━━━━━━━━━━\u001b[0m\u001b[37m\u001b[0m \u001b[1m0s\u001b[0m 87ms/step - loss: 4.8426e-04 - mae: 0.0106 - val_loss: 2.8762e-04 - val_mae: 0.0094\n",
            "Epoch 20/30\n",
            "\u001b[1m2/2\u001b[0m \u001b[32m━━━━━━━━━━━━━━━━━━━━\u001b[0m\u001b[37m\u001b[0m \u001b[1m0s\u001b[0m 87ms/step - loss: 4.5815e-04 - mae: 0.0103 - val_loss: 3.1193e-04 - val_mae: 0.0091\n",
            "Epoch 21/30\n",
            "\u001b[1m2/2\u001b[0m \u001b[32m━━━━━━━━━━━━━━━━━━━━\u001b[0m\u001b[37m\u001b[0m \u001b[1m0s\u001b[0m 89ms/step - loss: 4.5945e-04 - mae: 0.0102 - val_loss: 3.3467e-04 - val_mae: 0.0099\n",
            "Epoch 22/30\n",
            "\u001b[1m2/2\u001b[0m \u001b[32m━━━━━━━━━━━━━━━━━━━━\u001b[0m\u001b[37m\u001b[0m \u001b[1m0s\u001b[0m 182ms/step - loss: 4.9984e-04 - mae: 0.0106 - val_loss: 2.7756e-04 - val_mae: 0.0088\n",
            "Epoch 23/30\n",
            "\u001b[1m2/2\u001b[0m \u001b[32m━━━━━━━━━━━━━━━━━━━━\u001b[0m\u001b[37m\u001b[0m \u001b[1m0s\u001b[0m 161ms/step - loss: 4.5835e-04 - mae: 0.0100 - val_loss: 3.4384e-04 - val_mae: 0.0091\n",
            "Epoch 24/30\n",
            "\u001b[1m2/2\u001b[0m \u001b[32m━━━━━━━━━━━━━━━━━━━━\u001b[0m\u001b[37m\u001b[0m \u001b[1m0s\u001b[0m 144ms/step - loss: 5.0436e-04 - mae: 0.0103 - val_loss: 3.4785e-04 - val_mae: 0.0099\n",
            "Epoch 25/30\n",
            "\u001b[1m2/2\u001b[0m \u001b[32m━━━━━━━━━━━━━━━━━━━━\u001b[0m\u001b[37m\u001b[0m \u001b[1m0s\u001b[0m 158ms/step - loss: 4.8686e-04 - mae: 0.0103 - val_loss: 3.5742e-04 - val_mae: 0.0100\n",
            "Epoch 26/30\n",
            "\u001b[1m2/2\u001b[0m \u001b[32m━━━━━━━━━━━━━━━━━━━━\u001b[0m\u001b[37m\u001b[0m \u001b[1m0s\u001b[0m 127ms/step - loss: 4.7824e-04 - mae: 0.0102 - val_loss: 2.5751e-04 - val_mae: 0.0088\n",
            "Epoch 27/30\n",
            "\u001b[1m2/2\u001b[0m \u001b[32m━━━━━━━━━━━━━━━━━━━━\u001b[0m\u001b[37m\u001b[0m \u001b[1m0s\u001b[0m 154ms/step - loss: 4.3085e-04 - mae: 0.0097 - val_loss: 3.4610e-04 - val_mae: 0.0091\n",
            "Epoch 28/30\n",
            "\u001b[1m2/2\u001b[0m \u001b[32m━━━━━━━━━━━━━━━━━━━━\u001b[0m\u001b[37m\u001b[0m \u001b[1m0s\u001b[0m 135ms/step - loss: 4.8762e-04 - mae: 0.0100 - val_loss: 2.5931e-04 - val_mae: 0.0088\n",
            "Epoch 29/30\n",
            "\u001b[1m2/2\u001b[0m \u001b[32m━━━━━━━━━━━━━━━━━━━━\u001b[0m\u001b[37m\u001b[0m \u001b[1m0s\u001b[0m 156ms/step - loss: 4.0308e-04 - mae: 0.0095 - val_loss: 3.0959e-04 - val_mae: 0.0095\n",
            "Epoch 30/30\n",
            "\u001b[1m2/2\u001b[0m \u001b[32m━━━━━━━━━━━━━━━━━━━━\u001b[0m\u001b[37m\u001b[0m \u001b[1m1s\u001b[0m 213ms/step - loss: 4.3152e-04 - mae: 0.0096 - val_loss: 2.5122e-04 - val_mae: 0.0086\n",
            "\u001b[1m1/1\u001b[0m \u001b[32m━━━━━━━━━━━━━━━━━━━━\u001b[0m\u001b[37m\u001b[0m \u001b[1m0s\u001b[0m 425ms/step\n",
            "예측 결과 형태: (11, 10, 50)\n"
          ]
        }
      ]
    },
    {
      "cell_type": "code",
      "source": [
        "# 캐시 정책 구현\n",
        "# 예측 결과를 기반으로 DeepCache의 캐싱 정책을 구현하고 이를 통해 기본 캐싱 전략과 비교평가\n",
        "M = 5 # 캐시에 넣을 상위 M개 객체\n",
        "top_objects_each_t = []\n",
        "\n",
        "# 예측 결과에서 Top-M 객체 추출\n",
        "for i in range(len(y_pred)):\n",
        "    for t in range(K - 1):    # t+1 예측을 위해 K-1까지만\n",
        "        next_probs = y_pred[i, t+1]  # 다음 시점 확률 분포\n",
        "        top_indices = next_probs.argsort()[-M:][::-1]  # 상위 M개 객체 인덱스\n",
        "        top_objects_each_t.append(top_indices)\n",
        "\n",
        "# 실제 요청 로그 준비\n",
        "actual_requests = df.sort_values('request_time')['object_ID'].tolist()"
      ],
      "metadata": {
        "id": "UVbuP8OZZDSn"
      },
      "execution_count": 10,
      "outputs": []
    },
    {
      "cell_type": "code",
      "source": [
        "# 캐시 시뮬레이션 (LRU + 예측 기반) -> 성능 평가\n",
        "from collections import deque\n",
        "\n",
        "def simulate_deepcache(actual_requests, top_objects_each_t, cache_size=20, insert_interval=100):\n",
        "  \"\"\"\n",
        "    DeepCache 캐시 시뮬레이션을 수행하고 hit ratio를 반환합니다.\n",
        "\n",
        "    Parameters:\n",
        "        actual_requests (list): 실제 요청 객체 ID 리스트\n",
        "        top_objects_each_t (list of lists): 예측된 상위 M개의 객체 리스트 (매 insert_interval마다 1개 list)\n",
        "        cache_size (int): 캐시 크기\n",
        "        insert_interval (int): 예측 객체를 캐시에 넣는 주기 (예: 100 step마다 예측 사용)\n",
        "\n",
        "    Returns:\n",
        "        hit_ratio (float): 캐시 hit 비율\n",
        "  \"\"\"\n",
        "\n",
        "  cache = deque(maxlen=cache_size)\n",
        "  hit = 0\n",
        "  total = 0\n",
        "  fake_insert_idx = 0\n",
        "\n",
        "  for t, req in enumerate(actual_requests):\n",
        "    # 예측한 객체를 먼저 캐시에 넣기\n",
        "    if t % insert_interval == 0 and fake_insert_idx < len(top_objects_each_t):\n",
        "      fake_objs = top_objects_each_t[fake_insert_idx]\n",
        "      for obj in fake_objs:\n",
        "        if obj not in cache:\n",
        "          cache.append(obj)\n",
        "      fake_insert_idx += 1\n",
        "\n",
        "    total += 1\n",
        "    if req in cache:\n",
        "      hit += 1\n",
        "    else:\n",
        "      cache.append(req)\n",
        "\n",
        "  hit_ratio = hit / total if total > 0 else 0\n",
        "  return hit_ratio\n",
        "\n",
        "deepcache_hit = simulate_deepcache(actual_requests, top_objects_each_t, cache_size=20, insert_interval=100)\n",
        "print(f\"DeepCache 기반 캐시 hit ratio: {deepcache_hit:.4f}\")"
      ],
      "metadata": {
        "colab": {
          "base_uri": "https://localhost:8080/"
        },
        "id": "IKL9SlGBmjXX",
        "outputId": "8e3b5231-6d4d-4e5c-be37-df685495c5fd"
      },
      "execution_count": 14,
      "outputs": [
        {
          "output_type": "stream",
          "name": "stdout",
          "text": [
            "DeepCache 기반 캐시 hit ratio: 0.6571\n"
          ]
        }
      ]
    },
    {
      "cell_type": "code",
      "source": [
        "# 기본 LRU 캐시와 성능 비교\n",
        "# LRU 캐시 시뮬레이터 코드\n",
        "from collections import OrderedDict\n",
        "\n",
        "class LRUCache:\n",
        "  def __init__(self, capacity):\n",
        "    self.capacity = capacity\n",
        "    self.cache = OrderedDict()\n",
        "    self.hit = 0\n",
        "    self.miss = 0\n",
        "\n",
        "  def request(self, obj_id):\n",
        "    if obj_id in self.cache:\n",
        "      self.cache.move_to_end(obj_id)\n",
        "      self.hit += 1\n",
        "    else:\n",
        "      self.miss += 1\n",
        "      if len(self.cache) >= self.capacity:\n",
        "        self.cache.popitem(last=False) # 길이를 넘으면 pop\n",
        "      self.cache[obj_id] = True # 최근 것 push\n",
        "\n",
        "  def get_hit_ratio(self):\n",
        "    total = self.hit + self.miss\n",
        "    return self.hit / total if total > 0 else 0"
      ],
      "metadata": {
        "id": "wDg2rcihoHav"
      },
      "execution_count": 15,
      "outputs": []
    },
    {
      "cell_type": "code",
      "source": [
        "# 요청 로그를 읽어서 LRU 시뮬레이션 수행\n",
        "import pandas as pd\n",
        "\n",
        "df = pd.read_csv('Datasets/syntheticDataset_O50.csv')\n",
        "requests = df['object_ID'].tolist()\n",
        "\n",
        "cache_size = 5\n",
        "lru = LRUCache(cache_size)\n",
        "\n",
        "for obj_id in requests:\n",
        "  lru.request(obj_id)\n",
        "\n",
        "print(\"LRU 캐시 hit ratio:\", round(lru.get_hit_ratio(), 4))"
      ],
      "metadata": {
        "colab": {
          "base_uri": "https://localhost:8080/"
        },
        "id": "hBdJUcoieYqA",
        "outputId": "a4579acb-42e9-4ac9-a86b-9ab690739ce1"
      },
      "execution_count": 16,
      "outputs": [
        {
          "output_type": "stream",
          "name": "stdout",
          "text": [
            "LRU 캐시 hit ratio: 0.3021\n"
          ]
        }
      ]
    },
    {
      "cell_type": "code",
      "source": [
        "# 비교 결과 시각화\n",
        "import matplotlib.pyplot as plt\n",
        "\n",
        "ratios = [\n",
        "    simulate_deepcache(actual_requests, top_objects_each_t, cache_size=20, insert_interval=100),  # DeepCache\n",
        "    lru.get_hit_ratio()  # 기존 LRU 객체에서 hit ratio 가져오기\n",
        "]\n",
        "labels = ['DeepCache', 'LRU']\n",
        "\n",
        "plt.bar(labels, ratios, color=['skyblue', 'salmon'])\n",
        "plt.ylabel('Hit Ratio')\n",
        "plt.title('DeepCache vs LRU Performance')\n",
        "plt.ylim(0, 1)\n",
        "plt.show()"
      ],
      "metadata": {
        "colab": {
          "base_uri": "https://localhost:8080/",
          "height": 452
        },
        "id": "UR8p2f5Ofmi9",
        "outputId": "db6f610b-5b21-41d8-e823-a24e9451df05"
      },
      "execution_count": 18,
      "outputs": [
        {
          "output_type": "display_data",
          "data": {
            "text/plain": [
              "<Figure size 640x480 with 1 Axes>"
            ],
            "image/png": "[encoded data removed]"
          },
          "metadata": {}
        }
      ]
    }
  ]
}